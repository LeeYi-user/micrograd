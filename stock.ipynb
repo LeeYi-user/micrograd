{
 "cells": [
  {
   "cell_type": "code",
   "execution_count": 1,
   "id": "4611d5b4",
   "metadata": {},
   "outputs": [],
   "source": [
    "import keras\n",
    "import numpy as np\n",
    "import pandas as pd\n",
    "from sklearn.metrics import accuracy_score"
   ]
  },
  {
   "cell_type": "code",
   "execution_count": 2,
   "id": "c18e70fa",
   "metadata": {},
   "outputs": [],
   "source": [
    "from micrograd.engine import Value\n",
    "from micrograd.nn import MLP"
   ]
  },
  {
   "cell_type": "code",
   "execution_count": 3,
   "id": "89b72e2a",
   "metadata": {},
   "outputs": [],
   "source": [
    "df = pd.read_csv(\"./data/stock.csv\")\n",
    "df[\"target\"] = [1 if df[\"close\"][i + 1] > df[\"close\"][i] else 0 for i in range(len(df) - 1)] + [0]\n",
    "predictors = [\"Trading_Volume\", \"Trading_money\", \"open\", \"max\", \"min\", \"close\", \"spread\", \"Trading_turnover\"]\n",
    "x_train = df[predictors].iloc[:-100].to_numpy()\n",
    "x_test = df[predictors].iloc[-100:].to_numpy()\n",
    "y_train = df[\"target\"].iloc[:-100].to_numpy()\n",
    "y_test = df[\"target\"].iloc[-100:].to_numpy()\n",
    "y_train = keras.utils.to_categorical(y_train)"
   ]
  },
  {
   "cell_type": "code",
   "execution_count": 4,
   "id": "f0de9d5f",
   "metadata": {},
   "outputs": [
    {
     "name": "stdout",
     "output_type": "stream",
     "text": [
      "MLP of [ReLULayer(8, 64), ReLULayer(64, 64), LinearLayer(64, 2)]\n",
      "number of parameters 4866\n"
     ]
    }
   ],
   "source": [
    "epochs = 6\n",
    "batch_size = 32\n",
    "learning_rate = 0.3\n",
    "model = MLP(8, [64, 64, 2])\n",
    "\n",
    "print(model)\n",
    "print(\"number of parameters\", sum(p.data.size for p in model.parameters()))"
   ]
  },
  {
   "cell_type": "code",
   "execution_count": 5,
   "id": "b7b5384a",
   "metadata": {},
   "outputs": [
    {
     "name": "stdout",
     "output_type": "stream",
     "text": [
      "epoch 1, accuracy: 54.00%\n",
      "epoch 2, accuracy: 54.00%\n",
      "epoch 3, accuracy: 54.00%\n",
      "epoch 4, accuracy: 54.00%\n",
      "epoch 5, accuracy: 54.00%\n",
      "epoch 6, accuracy: 54.00%\n"
     ]
    }
   ],
   "source": [
    "for epoch in range(1, epochs + 1):\n",
    "    pre = 0\n",
    "    cur = batch_size\n",
    "    index = np.arange(x_train.shape[0])\n",
    "\n",
    "    while pre < cur:\n",
    "        ri = index[pre:cur]\n",
    "        Xb, yb = Value(x_train[ri]), Value(y_train[ri])\n",
    "\n",
    "        y_predW = model(Xb)\n",
    "        probs = y_predW.softmax()\n",
    "        log_probs = probs.log()\n",
    "        zb = yb * log_probs\n",
    "        outb = zb.reduce_sum(axis = 1)\n",
    "        finb = -outb.reduce_sum()\n",
    "        loss = finb / (cur - pre)\n",
    "\n",
    "        model.zero_grad()\n",
    "        loss.backward()\n",
    "\n",
    "        for p in model.parameters():\n",
    "            if p.data.ndim > 1:\n",
    "                p.data -= learning_rate * p.grad\n",
    "            else:\n",
    "                p.data -= learning_rate * p.grad.sum(axis = 0)\n",
    "\n",
    "        pre = cur\n",
    "\n",
    "        if cur <= x_train.shape[0] - batch_size:\n",
    "            cur += batch_size\n",
    "        else:\n",
    "            cur = x_train.shape[0]\n",
    "\n",
    "    print(f'epoch {epoch}, accuracy: {(accuracy_score(np.argmax(model(x_test).data, axis = 1), y_test) * 100):.2f}%')"
   ]
  },
  {
   "cell_type": "code",
   "execution_count": null,
   "id": "be4bee52",
   "metadata": {},
   "outputs": [],
   "source": []
  }
 ],
 "metadata": {
  "kernelspec": {
   "display_name": "Python 3 (ipykernel)",
   "language": "python",
   "name": "python3"
  },
  "language_info": {
   "codemirror_mode": {
    "name": "ipython",
    "version": 3
   },
   "file_extension": ".py",
   "mimetype": "text/x-python",
   "name": "python",
   "nbconvert_exporter": "python",
   "pygments_lexer": "ipython3",
   "version": "3.9.12"
  }
 },
 "nbformat": 4,
 "nbformat_minor": 5
}
