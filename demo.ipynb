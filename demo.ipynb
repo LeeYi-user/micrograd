{
 "cells": [
  {
   "cell_type": "code",
   "execution_count": 1,
   "metadata": {
    "colab": {
     "base_uri": "https://localhost:8080/",
     "height": 34
    },
    "colab_type": "code",
    "id": "SRWaB--7d4zs",
    "outputId": "781ad608-7c43-44f2-bd47-0af43aaeb5af"
   },
   "outputs": [],
   "source": [
    "import keras\n",
    "import numpy as np\n",
    "from keras.datasets import mnist\n",
    "from sklearn.metrics import accuracy_score"
   ]
  },
  {
   "cell_type": "code",
   "execution_count": 2,
   "metadata": {},
   "outputs": [],
   "source": [
    "from micrograd.engine import Value\n",
    "from micrograd.nn import MLP"
   ]
  },
  {
   "cell_type": "code",
   "execution_count": 3,
   "metadata": {
    "colab": {
     "base_uri": "https://localhost:8080/",
     "height": 51
    },
    "colab_type": "code",
    "id": "dfi2rgohd-8x",
    "outputId": "6cba906a-5b08-49d4-95dc-5dc00b781f3d"
   },
   "outputs": [],
   "source": [
    "(x_train, y_train), (x_test, y_test) = mnist.load_data()\n",
    "x_train = np.asarray(x_train, dtype = np.float32) / 255.0\n",
    "x_train = x_train.reshape(60000, 784)\n",
    "x_test = np.asarray(x_test, dtype = np.float32) / 255.0\n",
    "x_test = x_test.reshape(10000, 784)\n",
    "y_train = keras.utils.to_categorical(y_train)"
   ]
  },
  {
   "cell_type": "code",
   "execution_count": 4,
   "metadata": {
    "colab": {
     "base_uri": "https://localhost:8080/",
     "height": 374
    },
    "colab_type": "code",
    "id": "MnjjkOcYd-_c",
    "outputId": "8f40e4a3-0890-4b6c-ae0a-93a56ae42130"
   },
   "outputs": [
    {
     "name": "stdout",
     "output_type": "stream",
     "text": [
      "epoch 0, accuracy: 13.29%\n",
      "epoch 1, accuracy: 96.35%\n",
      "epoch 2, accuracy: 96.89%\n",
      "epoch 3, accuracy: 97.33%\n",
      "epoch 4, accuracy: 97.49%\n",
      "epoch 5, accuracy: 97.59%\n"
     ]
    }
   ],
   "source": [
    "epochs = 5\n",
    "batch_size = 32\n",
    "learning_rate = 0.01\n",
    "model = MLP(784, [128, 10])\n",
    "\n",
    "pre = 0\n",
    "cur = batch_size\n",
    "index = np.random.permutation(x_train.shape[0])\n",
    "\n",
    "for epoch in range(epochs):\n",
    "    print(f'epoch {epoch}, accuracy: {(accuracy_score(np.argmax(model(x_test).data, axis = 1), y_test) * 100):.2f}%')\n",
    "\n",
    "    for step in range(int(x_train.shape[0] / batch_size)):\n",
    "        ri = index[pre:cur]\n",
    "        Xb, yb = Value(x_train[ri]), Value(y_train[ri])\n",
    "\n",
    "        y_predW = model(Xb)\n",
    "        probs = y_predW.softmax()\n",
    "        log_probs = probs.log()\n",
    "        zb = yb * log_probs\n",
    "        outb = zb.reduce_sum(axis = 1)\n",
    "        finb = -outb.reduce_sum()\n",
    "\n",
    "        model.zero_grad()\n",
    "        finb.backward()\n",
    "\n",
    "        for p in model.parameters():\n",
    "            if len(p.data.shape) > 1:\n",
    "                p.data -= learning_rate * p.grad\n",
    "            else:\n",
    "                p.data -= learning_rate * p.grad.sum(axis = 0)\n",
    "\n",
    "        if cur == x_train.shape[0]:\n",
    "            pre = 0\n",
    "            cur = batch_size\n",
    "        else:\n",
    "            pre = cur\n",
    "\n",
    "            if cur <= x_train.shape[0] - batch_size:\n",
    "                cur += batch_size\n",
    "            else:\n",
    "                cur = x_train.shape[0]\n",
    "\n",
    "print(f'epoch {epochs}, accuracy: {(accuracy_score(np.argmax(model(x_test).data, axis = 1), y_test) * 100):.2f}%')"
   ]
  },
  {
   "cell_type": "code",
   "execution_count": null,
   "metadata": {},
   "outputs": [],
   "source": []
  }
 ],
 "metadata": {
  "colab": {
   "collapsed_sections": [],
   "name": "mnist.ipynb",
   "provenance": []
  },
  "kernelspec": {
   "display_name": "Python 3 (ipykernel)",
   "language": "python",
   "name": "python3"
  },
  "language_info": {
   "codemirror_mode": {
    "name": "ipython",
    "version": 3
   },
   "file_extension": ".py",
   "mimetype": "text/x-python",
   "name": "python",
   "nbconvert_exporter": "python",
   "pygments_lexer": "ipython3",
   "version": "3.9.12"
  }
 },
 "nbformat": 4,
 "nbformat_minor": 1
}
